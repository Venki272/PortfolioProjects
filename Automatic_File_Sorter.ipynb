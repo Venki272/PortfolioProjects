{
 "cells": [
  {
   "cell_type": "code",
   "execution_count": 1,
   "id": "8fa21df5-d126-4bb1-a138-612bcf4d83d6",
   "metadata": {},
   "outputs": [],
   "source": [
    "import os, shutil"
   ]
  },
  {
   "cell_type": "code",
   "execution_count": 2,
   "id": "1f2c947f-0b98-4bd3-84e6-e1562cbb4c0c",
   "metadata": {},
   "outputs": [],
   "source": [
    "path = r\"C:/Users/geeth/Downloads/Spring/Python Code/\""
   ]
  },
  {
   "cell_type": "code",
   "execution_count": 3,
   "id": "c1e75b0c-b811-469e-8abc-8310c8372960",
   "metadata": {},
   "outputs": [],
   "source": [
    "file_name = os.listdir(path)\n",
    "#print(file_name)"
   ]
  },
  {
   "cell_type": "code",
   "execution_count": 4,
   "id": "30b0c509-a4f2-4865-9241-4e6fe4e900d4",
   "metadata": {},
   "outputs": [],
   "source": [
    "folder_names = ['CSV files', 'Python files', 'Image files']\n",
    "\n",
    "for loop in range(0,3):\n",
    "    if not os.path.exists(path + folder_names[loop]):\n",
    "        #print(path + folder_names[loop])\n",
    "        os.makedirs(path + folder_names[loop])"
   ]
  },
  {
   "cell_type": "code",
   "execution_count": 5,
   "id": "8925943e-8a87-46c1-87d8-07f24b056791",
   "metadata": {},
   "outputs": [],
   "source": [
    "for file in file_name:\n",
    "    if \".csv\" in file and not os.path.exists(path + \"CSV files/\" + file):\n",
    "        shutil.move(path + file, path + \"CSV files/\" + file)\n",
    "    elif \".ipynb\" in file and not os.path.exists(path + \"Python files/\" + file):\n",
    "        shutil.move(path + file, path + \"Python files/\" + file)\n",
    "    elif (\".jpg\" in file or \".png\" in file) and not os.path.exists(path + \"Image files/\" + file):\n",
    "        shutil.move(path + file, path + \"Image files/\" + file)"
   ]
  }
 ],
 "metadata": {
  "kernelspec": {
   "display_name": "Python 3 (ipykernel)",
   "language": "python",
   "name": "python3"
  },
  "language_info": {
   "codemirror_mode": {
    "name": "ipython",
    "version": 3
   },
   "file_extension": ".py",
   "mimetype": "text/x-python",
   "name": "python",
   "nbconvert_exporter": "python",
   "pygments_lexer": "ipython3",
   "version": "3.11.7"
  }
 },
 "nbformat": 4,
 "nbformat_minor": 5
}
